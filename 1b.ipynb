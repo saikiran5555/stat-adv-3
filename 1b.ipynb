{
 "cells": [
  {
   "cell_type": "markdown",
   "id": "c4564c1a",
   "metadata": {},
   "source": [
    "Estimation Statistics is a branch of statistics that deals with estimating the values of population parameters based on sample data. It's a fundamental concept in statistics, used to make inferences about a population from a sample. Estimation statistics can be divided into two main types: point estimates and interval estimates.\n",
    "\n",
    "1. Point Estimate\n",
    "A point estimate is a single value that serves as an estimate of a population parameter. The most common point estimates are the sample mean, median, and mode, which are used to estimate population means, medians, and modes, respectively.\n",
    "\n",
    "Example: Suppose you want to estimate the average height of all adult men in a city. You take a random sample of 100 men from this population and calculate the average height from this sample. This average height is your point estimate of the population mean height.\n",
    "Point estimates provide a specific value as an estimate, but they don’t give any indication of the uncertainty or reliability of this estimate.\n",
    "\n",
    "2. Interval Estimate\n",
    "An interval estimate gives a range of values within which the parameter is estimated to lie. This range is calculated from the sample data and is likely to include the population parameter with a certain level of confidence. The most common type of interval estimate is the confidence interval.\n",
    "\n",
    "Example: Continuing the previous example, instead of just calculating the average height, you also create a 95% confidence interval. This might result in a range (e.g., 170 cm to 180 cm), suggesting that you are 95% confident that the average height of all adult men in the city lies within this range.\n",
    "Interval estimates are more informative than point estimates because they provide a range for the parameter and indicate the estimate's reliability. The width of the interval reflects the uncertainty associated with the estimate – wider intervals imply greater uncertainty."
   ]
  }
 ],
 "metadata": {
  "kernelspec": {
   "display_name": "Python 3 (ipykernel)",
   "language": "python",
   "name": "python3"
  },
  "language_info": {
   "codemirror_mode": {
    "name": "ipython",
    "version": 3
   },
   "file_extension": ".py",
   "mimetype": "text/x-python",
   "name": "python",
   "nbconvert_exporter": "python",
   "pygments_lexer": "ipython3",
   "version": "3.10.9"
  }
 },
 "nbformat": 4,
 "nbformat_minor": 5
}
