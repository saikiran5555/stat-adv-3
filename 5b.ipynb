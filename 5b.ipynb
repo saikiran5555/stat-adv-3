{
 "cells": [
  {
   "cell_type": "code",
   "execution_count": null,
   "id": "e8bb753a",
   "metadata": {},
   "outputs": [],
   "source": [
    "import numpy as np\n",
    "from scipy import stats\n",
    "\n",
    "# Sample data: Replace these with your actual data\n",
    "sample1 = np.array([20, 22, 19, 20, 25, 24, 23, 18])  # Sample from population 1\n",
    "sample2 = np.array([28, 30, 29, 32, 31, 27, 26, 29])  # Sample from population 2\n",
    "\n",
    "# Calculate the means of the two samples\n",
    "mean1 = np.mean(sample1)\n",
    "mean2 = np.mean(sample2)\n",
    "\n",
    "# Perform a two-sample t-test\n",
    "t_statistic, p_value = stats.ttest_ind(sample1, sample2)\n",
    "\n",
    "# Output the results\n",
    "print(\"Mean of sample 1:\", mean1)\n",
    "print(\"Mean of sample 2:\", mean2)\n",
    "print(\"T-statistic:\", t_statistic)\n",
    "print(\"P-value:\", p_value)\n",
    "\n",
    "# Decide whether to reject the null hypothesis\n",
    "alpha = 0.05  # significance level\n",
    "if p_value < alpha:\n",
    "    print(\"Reject the null hypothesis: there is a significant difference between the two population means.\")\n",
    "else:\n",
    "    print(\"Fail to reject the null hypothesis: there is no significant difference between the two population means.\")\n"
   ]
  }
 ],
 "metadata": {
  "kernelspec": {
   "display_name": "Python 3 (ipykernel)",
   "language": "python",
   "name": "python3"
  },
  "language_info": {
   "codemirror_mode": {
    "name": "ipython",
    "version": 3
   },
   "file_extension": ".py",
   "mimetype": "text/x-python",
   "name": "python",
   "nbconvert_exporter": "python",
   "pygments_lexer": "ipython3",
   "version": "3.10.9"
  }
 },
 "nbformat": 4,
 "nbformat_minor": 5
}
