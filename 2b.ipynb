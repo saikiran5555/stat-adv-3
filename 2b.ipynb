{
 "cells": [
  {
   "cell_type": "code",
   "execution_count": null,
   "id": "c8666654",
   "metadata": {},
   "outputs": [],
   "source": [
    "import numpy as np\n",
    "import scipy.stats as stats\n",
    "\n",
    "def estimate_population_mean(sample_data, confidence_level=0.95):\n",
    "    \"\"\"\n",
    "    Estimate the population mean from the sample data.\n",
    "\n",
    "    Parameters:\n",
    "    sample_data (list or numpy array): The sample data.\n",
    "    confidence_level (float): The confidence level for the interval estimate.\n",
    "\n",
    "    Returns:\n",
    "    tuple: A tuple containing the point estimate (sample mean) and the confidence interval.\n",
    "    \"\"\"\n",
    "    # Calculate the sample mean and standard deviation\n",
    "    sample_mean = np.mean(sample_data)\n",
    "    sample_std = np.std(sample_data, ddof=1)  # ddof=1 for sample standard deviation\n",
    "    sample_size = len(sample_data)\n",
    "\n",
    "    # Calculate the standard error of the mean\n",
    "    std_error = sample_std / np.sqrt(sample_size)\n",
    "\n",
    "    # Calculate the confidence interval\n",
    "    alpha = 1 - confidence_level\n",
    "    z_score = stats.norm.ppf(1 - alpha/2)  # two-tailed\n",
    "    margin_of_error = z_score * std_error\n",
    "\n",
    "    confidence_interval = (sample_mean - margin_of_error, sample_mean + margin_of_error)\n",
    "\n",
    "    return sample_mean, confidence_interval\n",
    "\n",
    "# Example usage\n",
    "sample_data = [150, 160, 170, 165, 180, 175, 170, 155, 160, 175]\n",
    "mean, interval = estimate_population_mean(sample_data)\n",
    "print(f\"Point Estimate of the Population Mean: {mean}\")\n",
    "print(f\"Confidence Interval: {interval}\")\n"
   ]
  }
 ],
 "metadata": {
  "kernelspec": {
   "display_name": "Python 3 (ipykernel)",
   "language": "python",
   "name": "python3"
  },
  "language_info": {
   "codemirror_mode": {
    "name": "ipython",
    "version": 3
   },
   "file_extension": ".py",
   "mimetype": "text/x-python",
   "name": "python",
   "nbconvert_exporter": "python",
   "pygments_lexer": "ipython3",
   "version": "3.10.9"
  }
 },
 "nbformat": 4,
 "nbformat_minor": 5
}
