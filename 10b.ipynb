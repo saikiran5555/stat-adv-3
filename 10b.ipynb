{
 "cells": [
  {
   "cell_type": "code",
   "execution_count": null,
   "id": "83c7f0e8",
   "metadata": {},
   "outputs": [],
   "source": [
    "import numpy as np\n",
    "import scipy.stats as stats\n",
    "\n",
    "# Generate two random samples of equal size\n",
    "np.random.seed(0)  # For reproducibility\n",
    "sample_size = 30\n",
    "sample1 = np.random.normal(loc=50, scale=10, size=sample_size)  # Sample from a population with mean 50\n",
    "sample2 = np.random.normal(loc=55, scale=10, size=sample_size)  # Sample from a population with mean 55\n",
    "\n",
    "# Perform the two-sample t-test for independent samples\n",
    "t_statistic, p_value = stats.ttest_ind(sample1, sample2)\n",
    "\n",
    "# Print the results\n",
    "print(f\"T-statistic: {t_statistic}\")\n",
    "print(f\"P-value: {p_value}\")\n",
    "\n",
    "# Interpretation based on p-value\n",
    "alpha = 0.05  # Significance level\n",
    "if p_value < alpha:\n",
    "    print(\"Reject the null hypothesis - suggest the population means are not equal.\")\n",
    "else:\n",
    "    print(\"Fail to reject the null hypothesis - no significant difference between the population means.\")\n"
   ]
  }
 ],
 "metadata": {
  "kernelspec": {
   "display_name": "Python 3 (ipykernel)",
   "language": "python",
   "name": "python3"
  },
  "language_info": {
   "codemirror_mode": {
    "name": "ipython",
    "version": 3
   },
   "file_extension": ".py",
   "mimetype": "text/x-python",
   "name": "python",
   "nbconvert_exporter": "python",
   "pygments_lexer": "ipython3",
   "version": "3.10.9"
  }
 },
 "nbformat": 4,
 "nbformat_minor": 5
}
