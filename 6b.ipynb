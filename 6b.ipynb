{
 "cells": [
  {
   "cell_type": "markdown",
   "id": "c4831103",
   "metadata": {},
   "source": [
    "The null hypothesis and the alternative hypothesis are fundamental concepts in statistical hypothesis testing. They are essentially opposing notions about a population parameter, and the goal of hypothesis testing is to determine which hypothesis is more likely to be true based on sample data.\n",
    "\n",
    "Null Hypothesis (H₀)\n",
    "The null hypothesis is a statement that indicates no effect or no difference. It is a hypothesis of no change, no effect, or no difference and is assumed true until evidence indicates otherwise. In statistical tests, we typically test the null hypothesis directly.\n",
    "\n",
    "Example 1: In testing a new drug, the null hypothesis might be that the drug has no effect on a disease, i.e., the treatment effect is zero.\n",
    "Example 2: If examining gender differences in math test scores, the null hypothesis could be that there is no difference in the average scores between boys and girls.\n",
    "Alternative Hypothesis (H₁ or Hₐ)\n",
    "The alternative hypothesis is what you want to test for. It is a statement that indicates the presence of an effect, a difference, or a change. The alternative hypothesis is considered to be true if the null hypothesis is found to be false.\n",
    "\n",
    "Example 1: Continuing with the drug example, the alternative hypothesis would be that the new drug has an effect on the disease, i.e., the treatment effect is not zero.\n",
    "Example 2: In the case of gender differences in math test scores, the alternative hypothesis might be that there is a difference in the average scores between boys and girls.\n",
    "Types of Alternative Hypotheses\n",
    "Two-sided: Suggests that the parameter is simply not equal to the value stated in the null hypothesis. For example, Hₐ: μ ≠ μ₀.\n",
    "One-sided: Suggests a specific direction of the effect. It could be either:\n",
    "\"Greater than,\" for example, Hₐ: μ > μ₀.\n",
    "\"Less than,\" for example, Hₐ: μ < μ₀.\n",
    "Importance in Statistical Testing\n",
    "In hypothesis testing, data is analyzed to determine whether there is enough statistical evidence to reject the null hypothesis in favor of the alternative hypothesis. Common tests include t-tests, chi-square tests, and ANOVA, each appropriate for different types of data and hypotheses. The outcome is usually interpreted using a p-value, which indicates the probability of observing the data if the null hypothesis is true. A low p-value (typically less than 0.05) suggests that the null hypothesis can be rejected."
   ]
  }
 ],
 "metadata": {
  "kernelspec": {
   "display_name": "Python 3 (ipykernel)",
   "language": "python",
   "name": "python3"
  },
  "language_info": {
   "codemirror_mode": {
    "name": "ipython",
    "version": 3
   },
   "file_extension": ".py",
   "mimetype": "text/x-python",
   "name": "python",
   "nbconvert_exporter": "python",
   "pygments_lexer": "ipython3",
   "version": "3.10.9"
  }
 },
 "nbformat": 4,
 "nbformat_minor": 5
}
